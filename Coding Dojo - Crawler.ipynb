{
 "cells": [
  {
   "cell_type": "markdown",
   "metadata": {},
   "source": [
    "# ☯ Coding Dojo ☯"
   ]
  },
  {
   "cell_type": "markdown",
   "metadata": {},
   "source": [
    "<img style=\"float:left\" src=\"imgs/vamos_coletar.png\">\n",
    "## Regras\n",
    "\n",
    "Ponto de participação, poderá perdido se:\n",
    "\n",
    "    - Aluno atrasado (ver política de atraso na especificação)\n",
    "    - Recusar participação como piloto/copiloto\n",
    "        - Ou não querer sair do computador, quando solicitado :-)\n",
    "    - Demorar para sair quando solicitado\n",
    "    - Parar de participar por:\n",
    "        - Uso de outro computador\n",
    "        - Uso de celular\n",
    "        - Usar a internet\n",
    "        - Conversa\n"
   ]
  },
  {
   "cell_type": "markdown",
   "metadata": {},
   "source": [
    "Antes de entregar, certifique-se que tenha executado todos os comandos/códigos deste Jupyter. É obrigatório que todas as saídas tenham sido apresentadas. Perda de 3 pontos caso não tenham feito isso."
   ]
  },
  {
   "cell_type": "markdown",
   "metadata": {},
   "source": [
    "# Dependencias"
   ]
  },
  {
   "cell_type": "markdown",
   "metadata": {},
   "source": [
    "Se necessário, instale o python3 e o pip3 abaixo usando `sudo apt-get install python3 python3-pip`.  Execute abaixo para instalar o [BeautifulSoup](https://www.crummy.com/software/BeautifulSoup/). Qualquer linha de comando/código como a de baixo, você pode executá-la a selecionando e pressionando `ctrl+enter` ❣️."
   ]
  },
  {
   "cell_type": "code",
   "execution_count": 1,
   "metadata": {},
   "outputs": [
    {
     "name": "stdout",
     "output_type": "stream",
     "text": [
      "Requirement already satisfied: bs4 in /home/thiago/.local/lib/python3.8/site-packages (0.0.1)\n",
      "Requirement already satisfied: beautifulsoup4 in /usr/lib/python3/dist-packages (from bs4) (4.8.2)\n"
     ]
    }
   ],
   "source": [
    "!pip3 install bs4"
   ]
  },
  {
   "cell_type": "markdown",
   "metadata": {},
   "source": [
    "Caso de comando não encontrado `pip3` use `pip`. "
   ]
  },
  {
   "cell_type": "markdown",
   "metadata": {},
   "source": [
    "# Coletor"
   ]
  },
  {
   "cell_type": "markdown",
   "metadata": {},
   "source": [
    "<img src=\"imgs/arquitetura_coletor.png\">"
   ]
  },
  {
   "cell_type": "markdown",
   "metadata": {},
   "source": [
    "Você deverá completar a implementação das três classes abaixo para fazer o coletor: `Domain`, `Scheduler` e `PageFetcher`. Conforme figura acima, o `Scheduler` é responsável por armazenar as filas de URLs a serem requisitadas; o PageFetcher serão *threads* responsáveis por fazer as requisições das URLs obtidas por meio do escalonador (instancia da classe `Scheduler`). A classe `Domain` armazena informações importantes sobre o servidor a serem usadas no momento do escalonamento das URLs."
   ]
  },
  {
   "cell_type": "markdown",
   "metadata": {},
   "source": [
    "## Classe `Domain`"
   ]
  },
  {
   "cell_type": "markdown",
   "metadata": {},
   "source": [
    "<figure style=\"text-align:center\">\n",
    "    <img src=\"imgs/estrutura_coletor.png\">\n",
    "    <caption>Fonte: Baeza-Yates e Ribeiro-Neto, 2011 </caption>\n",
    "</figure>"
   ]
  },
  {
   "cell_type": "markdown",
   "metadata": {},
   "source": [
    "Antes de começar a fazer o escalonador (classe `Scheduler`) devemos implementar a classe que representa os domínios. Conforme visto na figura acima, o escalonador possuirá diversas filas, uma para cada servidor.  Em nosso caso, o servidor será um domínio - que você irá implementar na classe `Domain` do arquivo `domain.py`. \n",
    "\n",
    "O escalonador percorrerá cada servidor e obterá o primeiro da fila do primeiro servidor acessível. O servidor é acessível obdecendo o limite de tempo entre requisições (em segundos, usando o atributo `int_time_limit_between_requests`). \n",
    "\n",
    "Nesta atividade você irá implementar a classe `Domain`, que já possui os seguintes atributos: \n",
    "\n",
    "- *int_time_limit_between_requests*: Limite entre requisições (int)\n",
    "- *nam_domain*: Nome do domínio (String)\n",
    "- *time_last_access*: [Objeto Datetime](https://docs.python.org/3/library/datetime.html#datetime-objects) informando da data/hora do último acesso \n",
    "\n",
    "O prefixo da variável sempre irá denotar o tipo da mesma."
   ]
  },
  {
   "cell_type": "markdown",
   "metadata": {},
   "source": [
    "**Atividade 1 - classe `Domain`**: Complete a classe `Domain` implementando os métodos/atributos calculados descritos a seguir. Logo após, execute o ❣️ teste unitário ❣️ para verificar se os métodos/atributos calculados foram implementados conforme esperado.\n",
    "\n",
    "- **accessed_now**: Método que modifica o último acesso com a data/hora atual usando um [objeto datetime](https://docs.python.org/3/library/datetime.html#datetime-objects)\n",
    "- **time_since_last_access**: Atributo calculado que retorna um [objeto TimeDelta](https://docs.python.org/3/library/datetime.html#timedelta-objects) com a diferença da data atual e a data do último acesso. Veja os exemplos de uso do TimeDelta na sua documentação\n",
    "- **is_accessible**: Método que verdadeiro se o domínio estiver acessível"
   ]
  },
  {
   "cell_type": "markdown",
   "metadata": {},
   "source": [
    "Os métodos `count_fetched_page` e `has_finished_crawl` já estão implementados. Execute o teste unitário a seguir. Veja que o comando abaixo executa o teste unitário presente no arquivo `crawler/scheduler_test.py`. Analise-o para entender como implementamos testes unitários."
   ]
  },
  {
   "cell_type": "code",
   "execution_count": 2,
   "metadata": {},
   "outputs": [
    {
     "output_type": "stream",
     "name": "stdout",
     "text": [
      "Verificando acesso a um dominio já requisitado (após espera)\n",
      "aguardando 10 segundos...\n",
      ".\n",
      "----------------------------------------------------------------------\n",
      "Ran 1 test in 10.004s\n",
      "\n",
      "OK\n"
     ]
    }
   ],
   "source": [
    "!python3 -m crawler.scheduler_test DomainTest.test_domain"
   ]
  },
  {
   "cell_type": "markdown",
   "metadata": {},
   "source": [
    "**Atividade 2 - métodos `__hash__` e `__eq__` da classe `Domain`**: A fila será implementada por um dicionario ordenado ([OrderedDict](https://docs.python.org/2/library/collections.html#collections.OrderedDict)) em que a chave será um objeto da classe domínio e o valor serão uma lista de URLs. Para que seja possível a busca do domínio, você deverá implementar os métodos `__hash__` e `__eq__` de forma similar ao seguinte exemplo: "
   ]
  },
  {
   "cell_type": "code",
   "execution_count": 3,
   "metadata": {},
   "outputs": [],
   "source": [
    "from collections import OrderedDict\n",
    "class Xuxu():\n",
    "    def __str__(self):\n",
    "        return \"xuxuuu\"\n",
    "    \n",
    "    def __hash__(self):\n",
    "        return hash(\"xuxu\")\n",
    "    def __eq__(self, x):\n",
    "        return x == \"xuxu\"\n",
    "d = OrderedDict()"
   ]
  },
  {
   "cell_type": "markdown",
   "metadata": {},
   "source": [
    "Em nosso caso, deve ser permitido fazer a busca no dicionario pelo nome do domínio ou pelo objeto, ou seja, após a implementação desta atividade, o seguinte código irá funcionar corretamente: "
   ]
  },
  {
   "cell_type": "code",
   "execution_count": 4,
   "metadata": {},
   "outputs": [
    {
     "output_type": "stream",
     "name": "stdout",
     "text": [
      "oi.com\noi\n"
     ]
    }
   ],
   "source": [
    "from crawler.domain import Domain\n",
    "from collections import OrderedDict\n",
    "\n",
    "obj_domain = Domain(\"oi.com\",10)\n",
    "dic_x = OrderedDict()\n",
    "dic_x[obj_domain] = \"lala\"\n",
    "dic_x[\"oi.com\"] = \"oi\"\n",
    "\n",
    "#abaixo, em ambos os casos, será encontrado/impresso a string \"oi\"\n",
    "print(\"oi.com\")\n",
    "print(dic_x[obj_domain])"
   ]
  },
  {
   "cell_type": "markdown",
   "metadata": {},
   "source": [
    "Lembre-se que, em nosso caso, o parametro do método `__eq__` pode ser um objeto da classe `Domain` ou uma string representando o nome do domínio. Caso faça alguma modificação no código, você deverá reiniciar o kernel para que o efeito seja visto no código acima (para reiniciar, clique em Kernel->Restart). Isso ocorre que, uma vez dado import em um módulo, esse modulo não é alterado no Jupyter caso você faça uma modificação no código."
   ]
  },
  {
   "cell_type": "markdown",
   "metadata": {},
   "source": [
    "## Classe `Scheduler`"
   ]
  },
  {
   "cell_type": "markdown",
   "metadata": {},
   "source": [
    "Agora você irá implementar o escalonador. Essa classe será responsável por gerenciar as URLs. \n",
    "Para isso, será implementado as filas por servidores conforme apresentado na figura da seção anterior. \n",
    "Para isso, utilizaremos um OrderedDict em que as chaves são os servidores (objeto da classe `Domain`) e o valor será uma lista de tuplas com as URLs e sua profundidade. Com o objetivo de armazenar as URLs de forma estruturada, as mesmas **não serão** string, ao invés disso, serão objetos da classe `ParseResult` - essa classe é retornada do método [urlparse](https://docs.python.org/3/library/urllib.parse.html). Veja um exemplo abaixo.\n",
    "\n"
   ]
  },
  {
   "cell_type": "code",
   "execution_count": 5,
   "metadata": {},
   "outputs": [
    {
     "output_type": "stream",
     "name": "stdout",
     "text": [
      "{www.globo.com: [(ParseResult(scheme='http', netloc='www.globo.com', path='/esporte', params='', query='', fragment=''), 1), (ParseResult(scheme='http', netloc='www.globo.com', path='/noticia_um', params='', query='', fragment=''), 2), (ParseResult(scheme='http', netloc='www.globo.com', path='/noticia_dois', params='', query='', fragment=''), 3), (ParseResult(scheme='http', netloc='www.globo.com', path='/noticia_tres', params='', query='', fragment=''), 3)], www.cnpq.br: [(ParseResult(scheme='http', netloc='www.cnpq.br', path='/pesquisadores', params='', query='', fragment=''), 1), (ParseResult(scheme='http', netloc='www.cnpq.br', path='/bolsas', params='', query='', fragment=''), 1)]}\n"
     ]
    }
   ],
   "source": [
    "from crawler.domain import Domain\n",
    "from crawler.scheduler import Scheduler\n",
    "from urllib.parse import urlparse\n",
    "\n",
    "dict_filas_por_servidor = {Domain(\"www.globo.com\",10):[\n",
    "                                                (urlparse(\"http://www.globo.com/esporte\"),1),\n",
    "                                                (urlparse(\"http://www.globo.com/noticia_um\"),2),\n",
    "                                                (urlparse(\"http://www.globo.com/noticia_dois\"),3),\n",
    "                                                (urlparse(\"http://www.globo.com/noticia_tres\"),3),\n",
    "                                                ],\n",
    "                            Domain(\"www.cnpq.br\",10):[(urlparse(\"http://www.cnpq.br/pesquisadores\"),1),\n",
    "                                               (urlparse(\"http://www.cnpq.br/bolsas\"),1)]\n",
    "                          }\n",
    "print(dict_filas_por_servidor)"
   ]
  },
  {
   "cell_type": "markdown",
   "metadata": {},
   "source": [
    "Assim, a classe `Scheduler`, no arquivo `scheduler.py` possui os seguintes atributos: \n",
    "\n",
    "- `str_usr_agent`: Nome do `User agent`. Usualmente, é o nome do navegador, em nosso caso,  será o nome do coletor (usualmente, terminado em `bot`)\n",
    "- `int_page_limit`: Número de páginas a serem coletadas\n",
    "- `int_depth_limit`: Profundidade máxima a ser coletada\n",
    "- `int_page_count`: Quantidade de página já coletada\n",
    "- `dic_url_per_domain`: Fila de URLs por domínio (explicado anteriormente)\n",
    "- `set_discovered_urls`: Conjunto de URLs descobertas, ou seja, que foi extraída em algum HTML e já adicionadas na fila - mesmo se já ela foi retirada da fila. A URL armazenada deve ser uma string.\n",
    "- `dic_robots_per_domain`: Dicionário armazenando, para cada domínio, o objeto representando as regras obtidas no `robots.txt`"
   ]
  },
  {
   "cell_type": "markdown",
   "metadata": {},
   "source": [
    "**Atividad 3 - Método `can_add_page`**: Esse método irá retornar verdadeiro caso seja possível adicionar a página `obj_url` (objeto da classe ParseResult) que foi coletada na profundidade `int_depth`. Para que seja possível adicionar na lista, esta pagina não deve ter sido descoberta e nem com a profundidade maior que o limite. Este método será testado por teste unitário apenas após a implementação da adição e obtenção das URLs."
   ]
  },
  {
   "cell_type": "markdown",
   "metadata": {},
   "source": [
    "**Atividade 4 método `add_new_page` - Adicionar nova página**:  Este método retorna falso caso não seja possível adicionar a página (por meio do método `can_add_page`) e verdadeiro, caso contrário. Caso seja possível, deve-se adicionar a url `obj_url` na fila `dic_url_per_domain`. Lembre-se da estrutura do dicionário `dic_url_per_domain`. Não esqueça de armazenar que esta URL já foi descoberta. Este método será testado por teste unitário apenas após a implementação da obtenção das URLs. Lembre-se de como trabalhar com [dicionários](https://daniel-hasan.github.io/cefet-web-grad/classes/python2/#mais-colecoes)"
   ]
  },
  {
   "cell_type": "markdown",
   "metadata": {},
   "source": [
    "**Atividade 5 método `get_next_url` - obtém a próxima URL da fila**: Este método retona uma tupla `url,profundade` da próxima URL a ser coletada por meio da fila `dic_url_per_domain` retirando este item da fila. Lembre-se que: \n",
    "    \n",
    "- Ele deverá retornar a primeira URL do primeiro servidor que estiver acessível. \n",
    "- Você deve indicar que o servidor foi acessado \n",
    "- Caso a fila deste servidor esteja vazia, elimine-o do dicionário\n",
    "- Caso não encontre a URL, [coloque a Thread para esperar](https://docs.python.org/2/library/time.html#time.sleep) e, logo após, procure novamente \n",
    "\n",
    "Logo após, você já pode executar o teste unitário para verificar se a obtenção e adição de URLs está correta. Caso haja algum problema, existem já alguns prints comentados no código, descomente-os para verificar se o fluxo está ocorrendo da forma correta. Você deverá entregar sem a exibição desses prints (caso contrário, perderá pontos)."
   ]
  },
  {
   "cell_type": "code",
   "execution_count": 6,
   "metadata": {},
   "outputs": [
    {
     "output_type": "stream",
     "name": "stdout",
     "text": [
      "Verificação da ordem das URLs...\n",
      "Resgatando a segunda página do mesmo dominio...\n",
      "Tempo esperado: 20 segundos\n",
      ".\n",
      "----------------------------------------------------------------------\n",
      "Ran 1 test in 20.004s\n",
      "\n",
      "OK\n"
     ]
    }
   ],
   "source": [
    "!python3 -m crawler.scheduler_test SchedulerTest.test_add_remove_page"
   ]
  },
  {
   "cell_type": "markdown",
   "metadata": {},
   "source": [
    "**Atividade 6 método `can_fetch_page`**: Este método deve retornar verdadeiro caso a url (Objeto `ParseResult`), passada como parâmetro, pode ser coletada de acordo com o `Robots.txt` do domínio. Para isso, você deve usar o [`RobotFileParser`](https://docs.python.org/3/library/urllib.robotparser.html) para requisitar a URL do `robots.txt` deste domínio. Por razões de performance, você só poderá requisitar o robots.txt uma única vez por domínio. Assim, use o `dic_robots_per_domain` apropriadamente. Execute o teste unitário abaixo para verificar seu funcionamento. "
   ]
  },
  {
   "cell_type": "code",
   "execution_count": 7,
   "metadata": {},
   "outputs": [
    {
     "output_type": "stream",
     "name": "stdout",
     "text": [
      ".\n----------------------------------------------------------------------\nRan 1 test in 0.826s\n\nOK\n"
     ]
    }
   ],
   "source": [
    "!python3 -m crawler.scheduler_test SchedulerTest.test_can_fetch"
   ]
  },
  {
   "cell_type": "markdown",
   "metadata": {},
   "source": [
    "**Atividade 7 - Inicialização das sementes no construtor**: No construtor da classe `Scheduler` você deve adicionar as páginas sementes na fila. Tais sementes são passadas pelo parametro `arr_urls_seeds` do construtor. "
   ]
  },
  {
   "cell_type": "code",
   "execution_count": 8,
   "metadata": {},
   "outputs": [
    {
     "output_type": "stream",
     "name": "stdout",
     "text": [
      ".\n----------------------------------------------------------------------\nRan 1 test in 0.000s\n\nOK\n"
     ]
    }
   ],
   "source": [
    "!python3 -m crawler.scheduler_test SchedulerTest.test_init"
   ]
  },
  {
   "cell_type": "markdown",
   "metadata": {},
   "source": [
    "Logo após, utize a anotação @synchronized aonde julgar necessário para transformar em ThreadSafe."
   ]
  },
  {
   "cell_type": "markdown",
   "metadata": {},
   "source": [
    "## PageFetcher"
   ]
  },
  {
   "cell_type": "markdown",
   "metadata": {},
   "source": [
    "**Atividade 8 - Efetuar a requisição - método `request_url`:** Neste método você irá fazer a requisição usando a api [requests](https://requests.readthedocs.io/en/master/). Além disso, deve-se informar no cabeçalho (em `User-Agent`) o nome do coletor. O método deverá retornar o conteúdo (em binário) apenas se o conteúdo for HTML (ver no cabeçalho da resposta o tipo do conteúdo). Caso não seja, ele deverá retornar nulo. "
   ]
  },
  {
   "cell_type": "code",
   "execution_count": 9,
   "metadata": {},
   "outputs": [
    {
     "output_type": "stream",
     "name": "stdout",
     "text": [
      ".\n----------------------------------------------------------------------\nRan 1 test in 0.851s\n\nOK\n"
     ]
    }
   ],
   "source": [
    "!python3 -m crawler.page_fetcher_test PageFetcherTest.test_request_url"
   ]
  },
  {
   "cell_type": "markdown",
   "metadata": {},
   "source": [
    "**Atividade 9 extração das URLs por meio do método `discover_links`**: A partir do conteúdo (texto em binário) `bin_str_content` deve-se extrair seus os links. O conteúdo esta em binário, pois, o BeautifulSoup, internamente, verifica o encoding por meio da [tag meta](https://www.w3schools.com/tags/att_meta_charset.asp) e converte para UTF8. A URL da página coletada é um objeto ParseResult `obj_url` que está na profundidade `int_depth`. \n",
    "\n",
    "Para cada URL extraída, você deverá retornar uma tupla com a URL (objeto ParseResult) e a sua profundidade. Utilize o comando `yield` para retornar essas tuplas. A profundidade é calculada de por meio de  `obj_url` e `int_depth`, conforme comentado em sala de aula. \n",
    "\n",
    "Para a extração dos links, use o [CSS Selector do BeautifulSoup](https://www.crummy.com/software/BeautifulSoup/bs4/doc/#css-selectors). Seletor CSS é uma expressão que define quais elementos HTML serão estilizados pelo CSS. No *Beatifulsoup* eles são usados para selecionar quais tags serão extraídas. Veja o exemplo de uso e brinque abaixo. Caso precise, veja aqui um pouco de seletores CSS: [slides de Web](https://fegemo.github.io/cefet-front-end/classes/css2/#outros-seletores), [documentação MDN](https://developer.mozilla.org/en-US/docs/Web/CSS/CSS_Selectors)."
   ]
  },
  {
   "cell_type": "code",
   "execution_count": 2,
   "metadata": {},
   "outputs": [],
   "source": [
    "from bs4 import BeautifulSoup\n",
    "\n"
   ]
  },
  {
   "cell_type": "code",
   "execution_count": 10,
   "metadata": {},
   "outputs": [
    {
     "output_type": "stream",
     "name": "stdout",
     "text": [
      "Simulação da extração de links da página http://www.pudim.com.br na profundidade nível 2...\n.\n----------------------------------------------------------------------\nRan 1 test in 0.001s\n\nOK\n"
     ]
    }
   ],
   "source": [
    "!python3 -m crawler.page_fetcher_test PageFetcherTest.test_discover_links"
   ]
  },
  {
   "cell_type": "markdown",
   "metadata": {},
   "source": [
    "**Atividade 10 - método que solicita uma nova URL**: Por meio do método `crawl_new_url` você deverá utilizar os métodos previamente implementados para:\n",
    "\n",
    "- Solicitar ao escalonador uma nova URL\n",
    "- Fazer a requisição e obter o resultado (em binário)\n",
    "- Caso a URL seja um HTML válido, imprima esta URL e extraia os seus links"
   ]
  },
  {
   "cell_type": "markdown",
   "metadata": {},
   "source": [
    "**Atividade 11 - método run**: Este método deve coletar páginas enquanto a coleta não foi finalizada"
   ]
  },
  {
   "cell_type": "markdown",
   "metadata": {},
   "source": [
    "**Atividade 12 - um pequeno teste para finalizar:** Use as sementes do seu grupo e crie abaixo um escalonador e 5 PageFetchers para extrair 30 páginas. Imprima também o tempo gasto total."
   ]
  },
  {
   "cell_type": "code",
   "execution_count": 1,
   "metadata": {
    "tags": [
     "outputPrepend"
    ]
   },
   "outputs": [
    {
     "output_type": "stream",
     "name": "stdout",
     "text": [
      "507]: https://play.uol.com.br/aventura/6295/mulher-maravilha-1984?utm_source=UOL%20Home&utm_medium=UOL%20Home&utm_campaign=Carrossel-Home&utm_term=mulher-maravilha-1984&utm_content=mulher-maravilha-1984\n",
      "URL[508]: https://play.uol.com.br/drama/6067/velozes-e-furiosos-8?utm_source=UOL%20Home&utm_medium=UOL%20Home&utm_campaign=Carrossel-Home&utm_term=Velozes-e-furiosos&utm_content=Velozes-e-furiosos#rmcl\n",
      "URL[509]: https://play.uol.com.br/entretenimento/6131/otalab?utm_source=UOL%20Home&utm_medium=UOL%20Home&utm_campaign=Carrossel-Home&utm_term=otalab&utm_content=otalab#rmcl\n",
      "URL[510]: https://play.uol.com.br/reality-show/3251/de-ferias-com-o-ex-brasil?utm_source=UOL%20Home&utm_medium=UOL%20Home&utm_campaign=Carrossel-Home&utm_term=de-ferias-com-o-ex-brasil&utm_content=de-ferias-com-o-ex-brasil\n",
      "URL[511]: https://play.uol.com.br/assine?utm_source=Home%20UOL&utm_medium=M%C3%ADdia%20Interna&utm_campaign=Carrossel-Home&utm_term=carrossel%20de%20conteudo&utm_content=Assine-7-dias-trial\n",
      "URL[512]: http://noticias.uol.com.br/\n",
      "URL[513]: https://economia.uol.com.br/cotacoes/bolsas/\n",
      "URL[514]: https://economia.uol.com.br/cotacoes/cambio/\n",
      "URL[515]: https://economia.uol.com.br/cotacoes/cambio/peso-argentina/\n",
      "URL[516]: https://economia.uol.com.br/cotacoes/cambio/euro-uniao-europeia/\n",
      "URL[517]: https://economia.uol.com.br/cotacoes/cambio/libra-esterlina-reino-unido/\n",
      "URL[518]: https://www1.folha.uol.com.br/mundo/2021/07/pandemia-empurrou-mais-118-milhoes-de-pessoas-para-a-fome-no-mundo-em-2020.shtml\n",
      "URL[519]: https://noticias.uol.com.br/cotidiano/ultimas-noticias/2021/07/12/jovem-27-anos-morre-cachoeira-parana.htm\n",
      "URL[520]: https://noticias.uol.com.br/cotidiano/ultimas-noticias/2021/07/12/crianca-se-esconde-em-geladeira-para-fugir-de-incendio-em-mt-mae-foi-presa.htm\n",
      "URL[521]: https://noticias.uol.com.br/cotidiano/ultimas-noticias/2021/07/12/defesa-de-monique-medeiros-pede-liberacao-para-ela-ir-ao-enterro-do-pai.htm\n",
      "URL[522]: https://noticias.uol.com.br/ultimas-noticias/afp/2021/07/12/sobe-para-94-numero-de-mortos-em-predio-que-desabou-na-florida.htm\n",
      "URL[523]: https://noticias.uol.com.br/ultimas-noticias/rfi/2021/07/12/complicado-panorama-politico-alemao-mantem-suspense-sobre-favoritos-a-sucessao-de-merkel.htm\n",
      "URL[524]: https://www.band.uol.com.br/noticias/casal-executado-em-sp-16359239\n",
      "URL[525]: https://www.uol.com.br/carros/noticias/redacao/2021/07/12/estacionamento-de-balada-clandestina-em-sp-reuniu-mais-de-r-5-mi-em-carros.htm\n",
      "URL[526]: https://www1.folha.uol.com.br/colunas/painelsa/2021/07/por-r-210-milhoes-mineradora-britanica-vende-diamante-mais-caro-da-historia-da-empresa.shtml\n",
      "URL[527]: http://clicklogger.rm.uol.com.br/?prd=78&grp=src:10;chn:0;cpg:homefooter_inglesp_201703;creative:homefooter_inglesp_201703;servico:INGLES;&msr=Cliques%20de%20Origem:1&oper=11&redir=http://fib.pucrs.br/?utm_source=portal-uol&utm_medium=vitrine-base&utm_campaign=karnal\n",
      "URL[528]: http://clicklogger.rm.uol.com.br/?prd=78&grp=src:10;chn:0;cpg:homefooter_inglesp_201703;creative:homefooter_inglesp_201703;servico:INGLES;&msr=Cliques%20de%20Origem:1&oper=11&redir=http://fib.pucrs.br/?utm_source=portal-uol&utm_medium=vitrine-base&utm_campaign=karnal\n",
      "URL[529]: https://conta-digital-gratis.onelink.me/mNiB/fef8cb9f\n",
      "URL[530]: https://conta-digital-gratis.onelink.me/mNiB/fef8cb9f\n",
      "URL[531]: http://clicklogger.rm.uol.com.br/?prd=16&grp=src:13;chn:0;cpg:linkfixo_homeuol_produtos;creative:uol-host-titulo&msr=Cliques%20de%20Origem:1&oper=11&redir=https://meunegocio.uol.com.br/criador-de-sites/\n",
      "URL[532]: http://clicklogger.rm.uol.com.br/?prd=16&grp=src:13;chn:0;cpg:linkfixo_homeuol_produtos;creative:chamada-criador-gratis&msr=Cliques%20de%20Origem:1&oper=11&redir=https://meunegocio.uol.com.br/criador-de-sites/\n",
      "URL[533]: http://clicklogger.rm.uol.com.br/?prd=940&grp=src:13;chn:0;cpg:BoxdeprodutosBP;creative:homeuol;&msr=Cliques%20de%20Origem:1&oper=11&redir=https://batepapo.uol.com.br/\n",
      "URL[534]: http://clicklogger.rm.uol.com.br/?prd=940&grp=src:13;chn:0;cpg:BoxdeprodutosBP;creative:homeuol;&msr=Cliques%20de%20Origem:1&oper=11&redir=https://assine.uol.com.br/batepapo#rmcl\n",
      "URL[535]: http://clicklogger.rm.uol.com.br/?prd=78&grp=src:10;chn:0;cpg:homefooter_inglesp_201703;creative:homefooter_inglesp_201703;servico:INGLES;&msr=Cliques%20de%20Origem:1&oper=11&redir=https://www.passeidireto.com/?utm_source=uol.com.br&utm_medium=produtos-do-uol\n",
      "URL[536]: http://clicklogger.rm.uol.com.br/?prd=78&grp=src:10;chn:0;cpg:homefooter_inglesp_201703;creative:homefooter_inglesp_201703;servico:INGLES;&msr=Cliques%20de%20Origem:1&oper=11&redir=https://www.passeidireto.com/?utm_source=uol.com.br&utm_medium=produtos-do-uol\n",
      "URL[537]: https://www.uol.com.br/universa\n",
      "URL[538]: https://www.uol.com.br/universa/noticias/redacao/2021/07/12/apos-descobrir-cancer-aos-20-anos-deixei-a-fisica-para-ser-sexologa.htm\n",
      "URL[539]: https://harpersbazaar.uol.com.br/estilo-de-vida/mariana-campos-influenciadores-lgbtqia-vao-muito-alem-do-mes-do-orgulho/\n",
      "URL[540]: https://www.uol.com.br/universa/noticias/redacao/2021/07/12/skin-care-os-cuidados-que-voce-deve-manter-na-limpeza-diaria-do-seu-rosto.htm\n",
      "URL[541]: https://www.uol.com.br/universa/noticias/redacao/2021/07/12/apos-video-intimo-vazado-passei-a-criar-conteudo-erotico-com-meu-marido.htm\n",
      "URL[542]: https://www.uol.com.br/vivabem\n",
      "URL[543]: https://www.uol.com.br/vivabem/noticias/agencia-estado/2021/07/12/cientistas-testam-vacina-contra-hiv-com-mais-de-6-mil-pessoas.htm\n",
      "URL[544]: https://www.uol.com.br/vivabem/noticias/redacao/2021/07/12/respirar-antes-de-comer-e-mastigar-com-calma-ajudam-a-perder-peso.htm\n",
      "URL[545]: https://www.uol.com.br/vivabem/noticias/redacao/2021/07/10/barrinhas-e-mais-veja-suplementos-que-ajudam-na-recuperacao-pos-treino.htm\n",
      "URL[546]: https://www.uol.com.br/vivabem/noticias/agencia-estado/2021/07/12/cepa-delta-deve-se-tornar-predominante-pelo-mundo-preve-oms.htm\n",
      "URL[547]: https://www.uol.com.br/nossa\n",
      "URL[548]: https://www.uol.com.br/nossa/noticias/redacao/2021/07/12/chef-holandes-cria-sanduiche-de-r-30-mil-com-caviar-e-doa-valor-a-ong.htm\n",
      "URL[549]: https://www.uol.com.br/nossa/noticias/afp/2021/07/12/dubai-registra-mais-um-recorde-guinness-a-piscina-mais-profunda-do-mundo.htm\n",
      "URL[550]: https://www.uol.com.br/nossa/noticias/redacao/2021/07/12/arroz-de-polvo-ana-maria-braga.htm\n",
      "URL[551]: https://www.uol.com.br/nossa/noticias/redacao/2021/07/12/como-cortar-carnes-para-espetinhos-aprenda-todos-os-macetes.htm\n",
      "URL[552]: https://www.uol.com.br/carros/\n",
      "URL[553]: https://www.uol.com.br/carros/noticias/redacao/2021/07/12/ladroes-desistem-de-roubar-carro-com-cambio-manual-por-nao-saberem-guia-lo.htm\n",
      "URL[554]: https://www.uol.com.br/carros/noticias/redacao/2021/07/12/stellantis-confirma-8-novos-eletricos-ate-2026-usando-plataforma-stla.htm\n",
      "URL[555]: https://www.uol.com.br/tilt/\n",
      "URL[556]: https://www.uol.com.br/tilt/noticias/afp/2021/07/12/oms-quer-evitar-desvios-na-manipulacao-do-genoma-humano.htm\n",
      "URL[557]: https://www.uol.com.br/tilt/noticias/reuters/2021/07/12/whatsapp-e-alvo-de-queixas-na-ue-apos-mudancas-em-politica-de-privacidade.htm\n",
      "URL[558]: https://www.uol.com.br/start/\n",
      "URL[559]: https://www.uol.com.br/start/ultimas-noticias/2021/07/12/free-fire-nobru-tem-conta-suspensa.htm\n",
      "URL[560]: https://www.uol.com.br/start/ultimas-noticias/2021/07/12/cartucho-de-super-mario-e-vendido-por-us-156-milhao.htm\n",
      "URL[561]: https://www.uol.com.br/ecoa/\n",
      "URL[562]: https://www.uol.com.br/ecoa/ultimas-noticias/2021/07/12/acao-levara-oficinas-de-financas-e-autocuidado-a-mulheres-trans-em-sp.htm\n",
      "URL[563]: https://www.uol.com.br/ecoa/ultimas-noticias/2021/07/12/coletivo-faz-sabao-para-populacao-de-rua-se-higienizar-durante-a-pandemia.htm\n",
      "URL[564]: https://www.uol.com.br/mov/\n",
      "URL[565]: https://www.uol.com.br/play/videos/2021/07/12/entre-likes-marcia-sensitiva.htm\n",
      "URL[566]: https://www.uol.com.br/play/videos/2021/07/08/rir-pra-nao-chorar-boy-lixo-ja-fez-clara-averbuck-morrer-de-vergonha.htm\n",
      "URL[567]: https://tab.uol.com.br\n",
      "URL[568]: https://tab.uol.com.br/noticias/redacao/2021/07/12/artesao-dos-botoes-de-futebol-de-mesa-vende-pecas-ha-40-anos-no-rio.htm\n",
      "URL[569]: https://tab.uol.com.br/noticias/redacao/2021/07/10/detento-escreve-cartas-em-prisao-da-paraiba-e-passa-em-curso-de-letras.htm\n",
      "URL[570]: https://noticias.uol.com.br/cotidiano/ultimas-noticias/2021/07/11/festa-de-socialite-nos-jardins-tem-revolta-contra-blitze-vai-pra-favela.htm\n",
      "URL[571]: https://noticias.uol.com.br/cotidiano/ultimas-noticias/2021/07/12/socialite-diz-que-errou-apos-ter-festa-encerrada-por-blitz-nos-jardins.htm\n",
      "URL[572]: https://tvefamosos.uol.com.br/noticias/redacao/2021/07/11/dalla-vecchia-se-declara-ao-marido-e-alerta-para-as-mortes-de-pessoas-trans.htm\n",
      "URL[573]: https://www.uol.com.br/carros/noticias/redacao/2021/07/12/youtuber-razuk-faz-rifa-ilegal-de-mustang-por-r-1-mi-e-nao-entrega-carro.htm\n",
      "URL[574]: https://www1.folha.uol.com.br/poder/2021/07/apos-falas-golpistas-bolsonaro-agora-se-diz-alvo-de-boicote-de-gente-importante.shtml\n",
      "URL[575]: https://www.uol.com.br/esporte/olimpiadas/reportagens-especiais/conexao-toquio-descendente-de-japoneses-escravizados-no-brasil-katsuhico-nakaya-vai-a-nona-olimpiada-/\n",
      "URL[576]: https://www.uol.com.br/splash/reportagens-especiais/femigode/\n",
      "URL[577]: https://www.uol.com.br/esporte/reportagens-especiais/seu-time-vai-precisar-vender-jogadores-para-pagar-as-contas-alerta-especialista/index.htm\n",
      "URL[578]: https://tab.uol.com.br/noticias/redacao/2021/07/09/todos-podem-ser-honestos-diz-dono-de-loja-24h-sem-trancas-em-pernambuco.htm\n",
      "URL[579]: http://clicklogger.rm.uol.com.br/?prd=939&grp=src:13;chn:0;cpg:Home_UOL_Academia&msr=Cliques%20de%20Origem:1&oper=11&redir=https://meunegocio.uol.com.br/\n",
      "URL[580]: https://meunegocio.uol.com.br/criador-de-sites?utm_source=mkt-automation&utm_medium=email&utm_campaign=umn-camaleao1-criador\n",
      "URL[581]: https://meunegocio.uol.com.br/loja-virtual?utm_source=mkt-automation&utm_medium=email&utm_campaign=UMN-LV-camaleao-1\n",
      "URL[582]: http://clicklogger.rm.uol.com.br/?prd=915&grp=src:13;chn:0;cpg:camaleao_homeuol_uolesporteclube;link:Site&msr=Cliques%20de%20Origem:1&oper=11&redir=https://esporteclube.uol.com.br/\n",
      "URL[583]: http://clicklogger.rm.uol.com.br/?prd=915&grp=src:10;chn:0;cpg:Link-home;creative:Link-home-uec;&msr=Cliques%20de%20Origem:1&oper=11&redir=https://esporteclube.uol.com.br/nba\n",
      "URL[584]: http://clicklogger.rm.uol.com.br/?prd=915&grp=src:10;chn:0;cpg:Link-home;creative:Link-home-uec;&msr=Cliques%20de%20Origem:1&oper=11&redir=https://esporteclube.uol.com.br/champions-league\n",
      "URL[585]: http://clicklogger.rm.uol.com.br/?prd=915&grp=src:10;chn:0;cpg:Link-home;creative:Link-home-uec;&msr=Cliques%20de%20Origem:1&oper=11&redir=https://esporteclube.uol.com.br/eiplus/brasileirao\n",
      "URL[586]: https://esporteclube.uol.com.br/?utm_source=banner&utm_medium=barra-home&utm_campaign=barra-home&utm_term=barra-home\n",
      "URL[587]: http://clicklogger.rm.uol.com.br/?prd=78&grp=src:10;chn:0;cpg:homefooter_ingles_2016;creative:homefooter_ingles_2016;servico:INGLES;&msr=Cliques%20de%20Origem:1&oper=11&redir=http://cursodeingles.uol.com.br/?cmpid=homefooter_ingles_2016\n",
      "URL[588]: http://clicklogger.rm.uol.com.br/?prd=78&grp=src:10;chn:0;cpg:homefooter_ingles_20160715;creative:homefooter_ingles_20160715;servico:INGLES;&msr=Cliques%20de%20Origem:1&oper=11&redir=https://www.portaleducacao.com.br/curso-online-de-ingles-completo/p?utm_campaign=vitrine-uol-titulo&utm_medium=cpm&utm_source=midia-interna-uol0\n",
      "URL[589]: http://clicklogger.rm.uol.com.br/?prd=78&grp=src:10;chn:0;cpg:homefooter_professor_201610;creative:homefooter_professor_201610;servico:INGLES;&msr=Cliques%20de%20Origem:1&oper=11&redir=http://fib.pucrs.br/?utm_source=portal-uol&utm_medium=vitrine-base&utm_campaign=institucional\n",
      "URL[590]: http://clicklogger.rm.uol.com.br/?prd=78&grp=src:10;chn:0;cpg:homefooter_inglesp_201703;creative:homefooter_inglesp_201703;servico:INGLES;&msr=Cliques%20de%20Origem:1&oper=11&redir=http://fib.pucrs.br/?utm_source=portal-uol&utm_medium=vitrine-base&utm_campaign=institucional\n",
      "URL[591]: http://clicklogger.rm.uol.com.br/?prd=78&grp=src:10;chn:0;cpg:homefooter_ingles_201611;creative:homefooter_ingles_201611;servico:INGLES;&msr=Cliques%20de%20Origem:1&oper=11&redir=https://www.portaleducacao.com.br/?utm_source=midia-interna-uol&utm_medium=cpm&utm_campaign=vitrine-uol-titulo\n",
      "URL[592]: http://clicklogger.rm.uol.com.br/?prd=78&grp=src:10;chn:0;cpg:homefooter_ingles_20160715;creative:homefooter_ingles_20160715;servico:INGLES;&msr=Cliques%20de%20Origem:1&oper=11&redir=https://acasadoconcurseiro.com.br/concurso/1-000-questoes-cebraspe-pf-e-prf \n",
      "URL[593]: http://clicklogger.rm.uol.com.br/?prd=78&grp=src:10;chn:0;cpg:homefooter_independencia_201609;creative:homefooter_independencia_201609;servico:INGLES;&msr=Cliques%20de%20Origem:1&oper=11&redir=https://www.portaleducacao.com.br/?utm_source=midia-interna-uol&utm_medium=cpm&utm_campaign=vitrine-uol-titulo\n",
      "URL[594]: http://clicklogger.rm.uol.com.br/?prd=78&grp=src:10;chn:0;cpg:homefooter_ingles_201611;creative:homefooter_ingles_201611;servico:INGLES;&msr=Cliques%20de%20Origem:1&oper=11&redir=https://www.portaleducacao.com.br/?utm_campaign=vitrine-uol-titulo&utm_medium=cpm&utm_source=midia-interna-uol\n",
      "URL[595]: http://sobreuol.noticias.uol.com.br/\n",
      "URL[596]: http://sobreuol.noticias.uol.com.br/historia/\n",
      "URL[597]: https://denuncia.uol.com.br/\n",
      "URL[598]: https://sac.uol.com.br/#/atendimento-online\n",
      "URL[599]: http://sobreuol.noticias.uol.com.br/imprensa/\n",
      "URL[600]: https://sac.uol.com.br\n",
      "URL[601]: https://sobreuol.noticias.uol.com.br/normas-de-seguranca-e-privacidade.html\n",
      "URL[602]: https://sobreuol.noticias.uol.com.br/carreiras/\n",
      "URL[603]: https://produtos.uol.com.br/\n",
      "URL[604]: https://clicklogger.rm.uol.com.br/?prd=32&grp=src:13;chn:0;cpg:linkfixo_homeuol_rodape;creative:paravoce-pagbank&msr=Cliques%20de%20Origem:1&oper=11&redir=https://pagseguro.uol.com.br/conta-digital/conta-digital-gratis\n",
      "URL[605]: https://email.uol.com.br/bem-vindo?utm_source=uol_home_footer&utm_medium=linkfixo_footer-mail&utm_campaign=linkfixo_footer-mail&utm_content=uol-mail\n",
      "URL[606]: https://batepapo.uol.com.br/?utm_source=UOL_home_footer&utm_medium=link-fixo&utm_campaign=bp_UOL-home_footer&utm_content=bp\n",
      "URL[607]: https://seguranca.uol.com.br/?utm_source=uol_home_footer&utm_medium=linkfixo_footer-seguranca&utm_campaign=linkfixo_footer-seguranca&utm_content=seguranca-digital\n",
      "URL[608]: https://familiaprotegida.uol.com.br/?utm_source=uol_home_footer&utm_medium=linkfixo_footer-fp&utm_campaign=linkfixo_footer-fp&utm_content=familia_protegida\n",
      "URL[609]: https://universinho.uol.com.br/?utm_source=uol.com.br_home_footer&utm_medium=link-fixo&utm_campaign=footer_universinho&utm_content=universinho\n",
      "URL[610]: https://play.uol.com.br/?utm_source=uol.com.br&utm_medium= UOLHome &utm_campaign=linkfixo_rodapel&utm_term=rodape-uolplay&utm_content=rodape-uolplay\n",
      "URL[611]: http://clicklogger.rm.uol.com.br/?prd=938&grp=src:13;chn:0;cpg:uol-home_rodapé;creative:Leia_Mais;&msr=Cliques%20de%20Origem:1&oper=11&redir=https://leiamais.uol.com.br\n",
      "URL[612]: http://clicklogger.rm.uol.com.br/?prd=915&grp=src:13;chn:0;cpg:linkfixo_home2018_rodape;creative:paravoce-esporteclube&msr=Cliques%20de%20Origem:1&oper=11&redir=https://esporteclube.uol.com.br/\n",
      "URL[613]: http://clicklogger.rm.uol.com.br/?prd=57&grp=src:13;chn:0;cpg:linkfixo_home2020_rodape;creative:footerclubeuol&msr=Cliques%20de%20Origem:1&oper=11&redir=https://clube.uol.com.br/\n",
      "URL[614]: http://clicklogger.rm.uol.com.br/?prd=914&grp=src:13;chn:0;cpg:linkfixo_homeuol_rodape;creative:paravoce-resolve&msr=Cliques%20de%20Origem:1&oper=11&redir=http://resolve.uol.com.br/\n",
      "URL[615]: http://clicklogger.rm.uol.com.br/?prd=247&grp=src:13;chn:0;cpg:linkfixo_homeuol_rodape;creative:paravoce-uolsexo&msr=Cliques%20de%20Origem:1&oper=11&redir=http://sexo.uol.com.br/prive/\n",
      "URL[616]: http://clicklogger.rm.uol.com.br/?prd=4&grp=src:13;chn:0;cpg:linkfixo_homeuol_rodape;creative:paravoce-wifi&msr=Cliques%20de%20Origem:1&oper=11&redir=http://wifi.uol.com.br/\n",
      "URL[617]: https://clicklogger.rm.uol.com.br/?prd=22&grp=src:13;chn:0;cpg:linkfixo_homeuol_rodape;creative:paravoce-assistencia&msr=Cliques%20de%20Origem:1&oper=11&redir=https://assistenciatecnica.uol.com.br/\n",
      "URL[618]: https://clicklogger.rm.uol.com.br/?prd=3&grp=src:13;chn:0;cpg:linkfixo_homeuol_rodape;creative:paravoce-lojadejogos&msr=Cliques%20de%20Origem:1&oper=11&redir=https://jogos.uol.com.br/loja/\n",
      "URL[619]: https://www.portaleducacao.com.br/curso-online-de-ingles-completo/p?utm_source=uol&utm_medium=rodape-menu&utm_campaign=cursos\n",
      "URL[620]: https://www.portaleducacao.com.br/cursos?utm_source=uol&utm_medium=header-menu&utm_campaign=cursos\n",
      "URL[621]: https://clicklogger.rm.uol.com.br/?prd=16&grp=src:13;chn:0;cpg:linkfixo_home2015_rodape;creative:paranegocio-titulo&msr=Cliques%20de%20Origem:1&oper=11&redir=https://uolhost.uol.com.br/\n",
      "URL[622]: https://www.uol.com.br/adlab\n",
      "URL[623]: http://clicklogger.rm.uol.com.br/?prd=16&grp=src:13;chn:0;cpg:linkfixo_homeuol_rodape;creative:paranegocio-cloudcomputing&msr=Cliques%20de%20Origem:1&oper=11&redir=https://www.uolhost.uol.com.br/uol-cloud-computing.html\n",
      "URL[624]: http://clicklogger.rm.uol.com.br/?prd=16&grp=src:13;chn:0;cpg:linkfixo_homeuol_rodape;creative:paranegocio-criarblog&msr=Cliques%20de%20Origem:1&oper=11&redir=https://uolhost.uol.com.br/crie-seu-blog.html\n",
      "URL[625]: http://clicklogger.rm.uol.com.br/?prd=939&grp=src:13;chn:0;cpg:linkfixo_homeuol_rodape;creative:paranegocio-criadordesites&msr=Cliques%20de%20Origem:1&oper=11&redir=https://meunegocio.uol.com.br/criador-de-sites/\n",
      "URL[626]: http://clicklogger.rm.uol.com.br/?prd=939&grp=src:13;chn:0;cpg:linkfixo_homeuol_rodape;creative:paranegocio-lojavirtual&msr=Cliques%20de%20Origem:1&oper=11&redir=https://meunegocio.uol.com.br/loja-virtual/\n",
      "URL[627]: http://clicklogger.rm.uol.com.br/?prd=939&grp=src:13;chn:0;cpg:linkfixo_homeuol_rodape;creative:paranegocio-academiauolmeunegocio&msr=Cliques%20de%20Origem:1&oper=11&redir=https://meunegocio.uol.com.br/academia/\n",
      "URL[628]: http://clicklogger.rm.uol.com.br/?prd=939&grp=src:13;chn:0;cpg:linkfixo_homeuol_rodape;creative:paranegocio-emailmarketing&msr=Cliques%20de%20Origem:1&oper=11&redir=https://meunegocio.uol.com.br/e-mail-marketing/\n",
      "URL[629]: http://clicklogger.rm.uol.com.br/?prd=939&grp=src:13;chn:0;cpg:linkfixo_homeuol_rodape;creative:paranegocio-emailprofissional&msr=Cliques%20de%20Origem:1&oper=11&redir=https://meunegocio.uol.com.br/e-mail/\n",
      "URL[630]: http://clicklogger.rm.uol.com.br/?prd=16&grp=src:13;chn:0;cpg:linkfixo_homeuol_rodape;creative:paranegocio-hospedagem&msr=Cliques%20de%20Origem:1&oper=11&redir=https://uolhost.uol.com.br/hospedagem-de-sites.html\n",
      "URL[631]: https://clicklogger.rm.uol.com.br/?prd=32&grp=src:13;chn:0;cpg:linkfixo_homeuol_rodape;creative:paranegocio-moderninha&msr=Cliques%20de%20Origem:1&oper=11&redir=https://pagseguro.uol.com.br/para-seu-negocio/presencial/moderninha-wifi\n",
      "URL[632]: https://clicklogger.rm.uol.com.br/?prd=32&grp=src:13;chn:0;cpg:linkfixo_homeuol_rodape;creative:paranegocio-pagseguro&msr=Cliques%20de%20Origem:1&oper=11&redir=https://pagseguro.uol.com.br/\n",
      "URL[633]: http://clicklogger.rm.uol.com.br/?prd=939&grp=src:13;chn:0;cpg:linkfixo_homeuol_rodape;creative:paranegocio-dominios&msr=Cliques%20de%20Origem:1&oper=11&redir=https://meunegocio.uol.com.br/registro-de-dominio/\n",
      "URL[634]: http://aplicativos.uol.com.br/\n",
      "URL[635]: http://aplicativos.uol.com.br/\n",
      "URL[636]: http://aplicativos.uol.com.br/\n",
      "URL[637]: http://aplicativos.uol.com.br/\n",
      "URL[638]: http://aplicativos.uol.com.br/\n",
      "URL[639]: http://aplicativos.uol.com.br/\n",
      "URL[640]: http://aplicativos.uol.com.br/\n",
      "URL[641]: https://produtos.uol.com.br/appmeuuol\n",
      "URL[642]: http://noticias.uol.com.br/home-compartilhe/facebook.htm\n",
      "URL[643]: http://noticias.uol.com.br/home-compartilhe/twitter.htm\n",
      "URL[644]: http://noticias.uol.com.br/home-compartilhe/instagram.htm\n",
      "URL[645]: http://noticias.uol.com.br/erratas/\n",
      "URL[646]: https://www.uol.com.br/\n",
      "URL[647]: https://sobreuol.noticias.uol.com.br/normas-de-seguranca-e-privacidade.html\n",
      "URL[648]: https://www.uol.com.br/\n",
      "Tempo gasto: 0.525482177734375\n"
     ]
    }
   ],
   "source": [
    "import time\n",
    "from multiprocessing import Process\n",
    "from urllib.parse import urlparse\n",
    "\n",
    "from crawler.page_fetcher import PageFetcher\n",
    "from crawler.scheduler import Scheduler\n",
    "\n",
    "\n",
    "def test():\n",
    "    inicio = time.time()  # inicio do tempo execução\n",
    "    sites = ('https://www.uol.com.br', 'https://www.uai.com.br', 'https://www.terra.com.br', 'https://www.bbc.com',\n",
    "             'https://www.g1.globo.com', 'https://www.tecmundo.com.br', 'https://www.olhardigital.com.br',\n",
    "             'https://www.estadao.com.br', 'https://www.em.com.br')\n",
    "    depth_limit = 3  # limite de profundidade\n",
    "    page_limit = 30  # limite das páginas\n",
    "\n",
    "    sites_parsed = [urlparse(site) for site in sites]\n",
    "    escalonador = Scheduler('amarelaoBot', page_limit, depth_limit, sites_parsed)\n",
    "    # Scheduler(self, str_usr_agent, int_page_limit, int_depth_limit, arr_urls_seeds):\n",
    "\n",
    "    # instanciando o array de page fetcher\n",
    "    page_fetchers = [PageFetcher(escalonador) for _ in range(5)]\n",
    "\n",
    "    # inicializando cada um dos processos\n",
    "    processos = []\n",
    "    for fetcher in page_fetchers:\n",
    "        p = Process(target=fetcher.run())\n",
    "        p.start()\n",
    "        processos.append(p)\n",
    "\n",
    "    # Finalizando os processos\n",
    "    for processo in processos:\n",
    "        processo.join()\n",
    "    fim = time.time()\n",
    "    print(f'Tempo gasto: {fim - inicio}')\n",
    "\n",
    "\n",
    "if __name__ == '__main__':\n",
    "    test()"
   ]
  },
  {
   "cell_type": "markdown",
   "metadata": {},
   "source": [
    "# Bibliografia\n",
    "\n",
    "Baeza-Yates, Ricardo; Ribeiro-Neto, Berthier. **Modern information retrieval: the concepts and technology behind search**. ACM Press, 2011.\n",
    "\n",
    "Batista, Natércia ; Brandão, Michele ; Pinheiro, Michele ; Dalip, Daniel ; Moro, Mirella . **[Dados de Múltiplas Fontes da Web: coleta, integração e pré-processamento](https://sol.sbc.org.br/livros/index.php/sbc/catalog/download/8/19/58-1?inline=1)**. Minicursos do XXIV Simpósio Brasileiro de Sistemas Multimídia e Web. 1ed.: Sociedade Brasileira de Computação, 2018, v. , p. 153-192."
   ]
  }
 ],
 "metadata": {
  "interpreter": {
   "hash": "31f2aee4e71d21fbe5cf8b01ff0e069b9275f58929596ceb00d14d90e3e16cd6"
  },
  "kernelspec": {
   "name": "python3",
   "display_name": "Python 3.8.2 64-bit"
  },
  "language_info": {
   "codemirror_mode": {
    "name": "ipython",
    "version": 3
   },
   "file_extension": ".py",
   "mimetype": "text/x-python",
   "name": "python",
   "nbconvert_exporter": "python",
   "pygments_lexer": "ipython3",
   "version": "3.8.2"
  }
 },
 "nbformat": 4,
 "nbformat_minor": 2
}